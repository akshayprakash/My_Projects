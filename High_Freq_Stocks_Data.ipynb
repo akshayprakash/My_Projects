{
 "cells": [
  {
   "cell_type": "code",
   "execution_count": 1,
   "metadata": {
    "collapsed": true
   },
   "outputs": [],
   "source": [
    "import urllib.request, time, os, re, csv"
   ]
  },
  {
   "cell_type": "code",
   "execution_count": 2,
   "metadata": {
    "collapsed": false
   },
   "outputs": [],
   "source": [
    "def fetchGF(googleticker):\n",
    "    url = \"https://www.google.com/finance?q=NASDAQ%3AAAPL&ei=VfTtVtmpLoOieYztr8gH\"\n",
    "    req = urllib.request.Request(url)\n",
    "    resp = urllib.request.urlopen(req)\n",
    "    respData = resp.read()\n",
    "    k=re.search(b'id=\"ref_(.*?)\">(.*?)<', respData)\n",
    "    if k:\n",
    "        tmp=k.group(2)\n",
    "        q=tmp.decode().replace(',','')\n",
    "    else:\n",
    "        q=\"Nothing found for: \"+googleticker\n",
    "    return q"
   ]
  },
  {
   "cell_type": "code",
   "execution_count": 3,
   "metadata": {
    "collapsed": false
   },
   "outputs": [
    {
     "name": "stdout",
     "output_type": "stream",
     "text": [
      "Mon Mar 21 10:51:55 2016\n",
      "\n",
      "Mon Mar 21 10:51:55 2016\n",
      "\n"
     ]
    }
   ],
   "source": [
    "# display time corresponding to your location\n",
    "print(time.ctime())\n",
    "print()\n",
    " \n",
    "# Set local time zone to NYC\n",
    "os.environ['TZ']='America/New_York'\n",
    "time.tzset()\n",
    "t=time.localtime() # string\n",
    "print(time.ctime())\n",
    "print()"
   ]
  },
  {
   "cell_type": "code",
   "execution_count": 4,
   "metadata": {
    "collapsed": true
   },
   "outputs": [],
   "source": [
    "def combine(ticker):\n",
    "    quote=fetchGF(ticker) # use the core-engine function\n",
    "    t=time.localtime()    # grasp the moment of time\n",
    "    output=[t.tm_year,t.tm_mon,t.tm_mday,t.tm_hour,  # build a list\n",
    "            t.tm_min,t.tm_sec,ticker,quote]\n",
    "    return output"
   ]
  },
  {
   "cell_type": "code",
   "execution_count": 5,
   "metadata": {
    "collapsed": false
   },
   "outputs": [],
   "source": [
    "ticker=\"NASDAQ:AAPL\""
   ]
  },
  {
   "cell_type": "code",
   "execution_count": 6,
   "metadata": {
    "collapsed": false
   },
   "outputs": [],
   "source": [
    "# define file name of the output record\n",
    "fname=\"aapl.dat\"\n",
    "# remove a file, if exist\n",
    "os.path.exists(fname) and os.remove(fname)"
   ]
  },
  {
   "cell_type": "code",
   "execution_count": 7,
   "metadata": {
    "collapsed": false
   },
   "outputs": [
    {
     "name": "stdout",
     "output_type": "stream",
     "text": [
      "[2016, 3, 21, 10, 52, 5, 'NASDAQ:AAPL', '106.76']\n",
      "[2016, 3, 21, 10, 52, 15, 'NASDAQ:AAPL', '106.78']\n",
      "[2016, 3, 21, 10, 52, 25, 'NASDAQ:AAPL', '106.79']\n",
      "[2016, 3, 21, 10, 52, 36, 'NASDAQ:AAPL', '106.80']\n",
      "[2016, 3, 21, 10, 52, 48, 'NASDAQ:AAPL', '106.81']\n",
      "[2016, 3, 21, 10, 52, 59, 'NASDAQ:AAPL', '106.82']\n",
      "[2016, 3, 21, 10, 53, 10, 'NASDAQ:AAPL', '106.81']\n",
      "[2016, 3, 21, 10, 53, 20, 'NASDAQ:AAPL', '106.79']\n",
      "[2016, 3, 21, 10, 53, 32, 'NASDAQ:AAPL', '106.76']\n",
      "[2016, 3, 21, 10, 53, 42, 'NASDAQ:AAPL', '106.75']\n",
      "[2016, 3, 21, 10, 53, 53, 'NASDAQ:AAPL', '106.75']\n",
      "[2016, 3, 21, 10, 54, 4, 'NASDAQ:AAPL', '106.77']\n",
      "[2016, 3, 21, 10, 54, 14, 'NASDAQ:AAPL', '106.73']\n",
      "[2016, 3, 21, 10, 54, 25, 'NASDAQ:AAPL', '106.73']\n",
      "[2016, 3, 21, 10, 54, 36, 'NASDAQ:AAPL', '106.68']\n"
     ]
    },
    {
     "ename": "KeyboardInterrupt",
     "evalue": "",
     "output_type": "error",
     "traceback": [
      "\u001b[0;31m---------------------------------------------------------------------------\u001b[0m",
      "\u001b[0;31mKeyboardInterrupt\u001b[0m                         Traceback (most recent call last)",
      "\u001b[0;32m<ipython-input-7-ea0bf703eb8a>\u001b[0m in \u001b[0;36m<module>\u001b[0;34m()\u001b[0m\n\u001b[1;32m     22\u001b[0m                 \u001b[0mprint\u001b[0m\u001b[0;34m(\u001b[0m\u001b[0mdata\u001b[0m\u001b[0;34m)\u001b[0m\u001b[0;34m\u001b[0m\u001b[0m\n\u001b[1;32m     23\u001b[0m                 \u001b[0mwriter\u001b[0m\u001b[0;34m.\u001b[0m\u001b[0mwriterow\u001b[0m\u001b[0;34m(\u001b[0m\u001b[0mdata\u001b[0m\u001b[0;34m)\u001b[0m \u001b[0;31m# save data in the file\u001b[0m\u001b[0;34m\u001b[0m\u001b[0m\n\u001b[0;32m---> 24\u001b[0;31m                 \u001b[0mtime\u001b[0m\u001b[0;34m.\u001b[0m\u001b[0msleep\u001b[0m\u001b[0;34m(\u001b[0m\u001b[0mfreq\u001b[0m\u001b[0;34m)\u001b[0m\u001b[0;34m\u001b[0m\u001b[0m\n\u001b[0m\u001b[1;32m     25\u001b[0m \u001b[0mf\u001b[0m\u001b[0;34m.\u001b[0m\u001b[0mclose\u001b[0m\u001b[0;34m(\u001b[0m\u001b[0;34m)\u001b[0m\u001b[0;34m\u001b[0m\u001b[0m\n\u001b[1;32m     26\u001b[0m \u001b[0mprint\u001b[0m\u001b[0;34m(\u001b[0m\u001b[0mstr\u001b[0m\u001b[0;34m(\u001b[0m\u001b[0mt\u001b[0m\u001b[0;34m.\u001b[0m\u001b[0mtm_hour\u001b[0m\u001b[0;34m)\u001b[0m \u001b[0;34m+\u001b[0m \u001b[0;34m\":\"\u001b[0m \u001b[0;34m+\u001b[0m \u001b[0mstr\u001b[0m\u001b[0;34m(\u001b[0m\u001b[0mt\u001b[0m\u001b[0;34m.\u001b[0m\u001b[0mtm_min\u001b[0m\u001b[0;34m)\u001b[0m\u001b[0;34m)\u001b[0m\u001b[0;34m\u001b[0m\u001b[0m\n",
      "\u001b[0;31mKeyboardInterrupt\u001b[0m: "
     ]
    }
   ],
   "source": [
    "# To test, set the hour and minutes according to the above printed\n",
    "# time in New York so you can capture 2 or 3 values before the loop\n",
    "# stops\n",
    "\n",
    "freq=10 # fetch data every 600 sec (10 min)\n",
    "\n",
    "tickers=[\"NASDAQ:AAPL\"]\n",
    " \n",
    "with open(fname,'a') as f:\n",
    "    writer = csv.writer(f,dialect=\"excel\") #,delimiter=\" \")\n",
    "    while(t.tm_hour <= 21):\n",
    "        if(t.tm_hour == 21):\n",
    "            while(t.tm_min < 51):\n",
    "                data = combine(ticker)\n",
    "                print(data)\n",
    "                writer.writerow(data) # save data in the file\n",
    "                time.sleep(freq)\n",
    "            else:break\n",
    "        else:\n",
    "            for ticker in tickers:\n",
    "                data=combine(ticker)\n",
    "                print(data)\n",
    "                writer.writerow(data) # save data in the file\n",
    "                time.sleep(freq)\n",
    "f.close()\n",
    "print(str(t.tm_hour) + \":\" + str(t.tm_min))"
   ]
  },
  {
   "cell_type": "code",
   "execution_count": null,
   "metadata": {
    "collapsed": true
   },
   "outputs": [],
   "source": []
  }
 ],
 "metadata": {
  "kernelspec": {
   "display_name": "Python 3",
   "language": "python",
   "name": "python3"
  },
  "language_info": {
   "codemirror_mode": {
    "name": "ipython",
    "version": 3
   },
   "file_extension": ".py",
   "mimetype": "text/x-python",
   "name": "python",
   "nbconvert_exporter": "python",
   "pygments_lexer": "ipython3",
   "version": "3.5.1"
  }
 },
 "nbformat": 4,
 "nbformat_minor": 0
}
